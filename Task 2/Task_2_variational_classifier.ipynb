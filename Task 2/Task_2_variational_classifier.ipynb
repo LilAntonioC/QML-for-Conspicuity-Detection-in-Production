{
  "cells": [
    {
      "cell_type": "markdown",
      "metadata": {},
      "source": [
        "## **Variational classifier**\n"
      ]
    },
    {
      "cell_type": "markdown",
      "metadata": {},
      "source": [
        "## **Imports**\n"
      ]
    },
    {
      "cell_type": "code",
      "execution_count": 3,
      "metadata": {
        "collapsed": false
      },
      "outputs": [],
      "source": [
        "import pennylane as qml\n",
        "from pennylane import numpy as np\n",
        "from pennylane.optimize import NesterovMomentumOptimizer"
      ]
    },
    {
      "cell_type": "markdown",
      "metadata": {},
      "source": [
        "Quantum and classical nodes\n",
        "===========================\n",
        "```java\n",
        "We then create a quantum device that will run our circuits.\n",
        "```"
      ]
    },
    {
      "cell_type": "code",
      "execution_count": 90,
      "metadata": {
        "collapsed": false
      },
      "outputs": [],
      "source": [
        "dev = qml.device(\"default.qubit\")"
      ]
    },
    {
      "cell_type": "markdown",
      "metadata": {},
      "source": [
        "```python\n",
        "In this circuit, every qbit has a rotation that has 3 parameters, then weh just have CNOT operators between the difrrent qbits, except between 1 and 3, this structure can be repeated any number of times, and the more layers we have the more degrees of freedom we have\n",
        "```"
      ]
    },
    {
      "cell_type": "code",
      "execution_count": 91,
      "metadata": {
        "collapsed": false
      },
      "outputs": [],
      "source": [
        "def layer(layer_weights):\n",
        "    for wire in range(4):\n",
        "        qml.Rot(*layer_weights[wire], wires=wire)\n",
        "\n",
        "    for wires in ([0, 1], [1, 2], [2, 3], [3, 0]):\n",
        "        qml.CNOT(wires)"
      ]
    },
    {
      "cell_type": "markdown",
      "metadata": {},
      "source": [
        "```java\n",
        "One of the main challenges we will face is the need to encode data. Different strategies are available depending on our data. In this first example, we use the basis state encoding method, which converts binary values into states in the quantum circuit. For instance, in this case, the code uses 4 qubits to represent any data point in the dataset. One disadvantage of this method is the limited number of values it can represent; with 4 qubits, we can represent in this case 2 ^ 4 = 16 values. Therefore, with  n qbits we can represent 2 ^ n values.\n",
        "```"
      ]
    },
    {
      "cell_type": "code",
      "execution_count": 92,
      "metadata": {
        "collapsed": false
      },
      "outputs": [],
      "source": [
        "def state_preparation(x):\n",
        "    qml.BasisState(x, wires=[0, 1, 2, 3])"
      ]
    },
    {
      "cell_type": "markdown",
      "metadata": {},
      "source": [
        "```java\n",
        "After we have define the encoding and the repetitive structure or structures that we will use, we can create our circuit, in gthis case is pretty simple, just first the encoding layer state_preparation() and our trainable layer(), after denining that we can take the expected value of the PauliZ opertator.\n",
        "```\n"
      ]
    },
    {
      "cell_type": "code",
      "execution_count": 93,
      "metadata": {
        "collapsed": false
      },
      "outputs": [],
      "source": [
        "@qml.qnode(dev)\n",
        "def circuit(weights, x):\n",
        "    state_preparation(x)\n",
        "\n",
        "    for layer_weights in weights:\n",
        "        layer(layer_weights)\n",
        "\n",
        "    return qml.expval(qml.PauliZ(0))"
      ]
    },
    {
      "cell_type": "markdown",
      "metadata": {},
      "source": [
        "```java\n",
        "Here we define our model. As we can see, it is determined by the weights and the bias. However, we can make it more flexible.\n",
        "```\n"
      ]
    },
    {
      "cell_type": "code",
      "execution_count": 134,
      "metadata": {
        "collapsed": false
      },
      "outputs": [],
      "source": [
        "def variational_classifier(weights, bias, x):\n",
        "    return circuit(weights, x) + bias"
      ]
    },
    {
      "cell_type": "markdown",
      "metadata": {},
      "source": [
        "```java\n",
        "Also we have to define 3 important parts of a model, the cost function, our metric, and a loss function.\n",
        "\n",
        "Here as a loss functon we use the square loss or also known as Mean square error\n",
        "```"
      ]
    },
    {
      "cell_type": "code",
      "execution_count": 124,
      "metadata": {
        "collapsed": false
      },
      "outputs": [],
      "source": [
        "def square_loss(labels, predictions):\n",
        "    # We use a call to qml.math.stack to allow subtracting the arrays directly\n",
        "    return np.mean((labels - qml.math.stack(predictions)) ** 2)"
      ]
    },
    {
      "cell_type": "markdown",
      "metadata": {},
      "source": [
        "```python\n",
        "Next, we define a metric that provides a human-readable and interpretable value for evaluating the performance of the model. There are many metrics available, but for simplicity, we will use accuracy in this example.\n",
        "```\n"
      ]
    },
    {
      "cell_type": "code",
      "execution_count": 125,
      "metadata": {
        "collapsed": false
      },
      "outputs": [],
      "source": [
        "def accuracy(labels, predictions):\n",
        "    acc = sum(abs(l - p) < 1e-5 for l, p in zip(labels, predictions))\n",
        "    acc = acc / len(labels)\n",
        "    return acc"
      ]
    },
    {
      "cell_type": "markdown",
      "metadata": {},
      "source": [
        "```python\n",
        "In the end we defined our cost function, which is used to train the model, with this function the gradients are calculted and help te model to move in the right direction\n",
        "```"
      ]
    },
    {
      "cell_type": "code",
      "execution_count": 126,
      "metadata": {
        "collapsed": false
      },
      "outputs": [],
      "source": [
        "def cost(weights, bias, X, Y):\n",
        "    predictions = [variational_classifier(weights, bias, x) for x in X]\n",
        "    return square_loss(Y, predictions)"
      ]
    },
    {
      "cell_type": "markdown",
      "metadata": {},
      "source": [
        "## **Optimization of the model**\n",
        "\n",
        "```java\n",
        "Here we gather the data, so we can optimize the model, using the np.loadtxt() we can get the data from any place, a url or a folder\n",
        "```"
      ]
    },
    {
      "cell_type": "code",
      "execution_count": 127,
      "metadata": {
        "collapsed": false
      },
      "outputs": [
        {
          "name": "stdout",
          "output_type": "stream",
          "text": [
            "x = [0 0 0 1], y = 1\n",
            "x = [0 0 1 0], y = 1\n",
            "x = [0 1 0 0], y = 1\n",
            "x = [0 1 0 1], y = -1\n",
            "x = [0 1 1 0], y = -1\n",
            "x = [0 1 1 1], y = 1\n",
            "x = [1 0 0 0], y = 1\n",
            "x = [1 0 0 1], y = -1\n",
            "x = [1 0 1 1], y = 1\n",
            "x = [1 1 1 1], y = -1\n"
          ]
        }
      ],
      "source": [
        "data = np.loadtxt(\"https://raw.githubusercontent.com/XanaduAI/qml/master/_static/demonstration_assets/variational_classifier/data/parity_train.txt\", dtype=int)\n",
        "X = np.array(data[:, :-1])\n",
        "Y = np.array(data[:, -1])\n",
        "Y = Y * 2 - 1  # shift label from {0, 1} to {-1, 1}\n",
        "\n",
        "for x,y in zip(X, Y):\n",
        "    print(f\"x = {x}, y = {y}\")"
      ]
    },
    {
      "cell_type": "markdown",
      "metadata": {},
      "source": [
        "```javascript\n",
        "In this section of the code some variables have been defined with the purpose of reproducibility in this case the weights and also the bias value\n",
        "```\n"
      ]
    },
    {
      "cell_type": "code",
      "execution_count": 128,
      "metadata": {
        "collapsed": false
      },
      "outputs": [
        {
          "name": "stdout",
          "output_type": "stream",
          "text": [
            "Weights: [[[ 0.01764052  0.00400157  0.00978738]\n",
            "  [ 0.02240893  0.01867558 -0.00977278]\n",
            "  [ 0.00950088 -0.00151357 -0.00103219]\n",
            "  [ 0.00410599  0.00144044  0.01454274]]\n",
            "\n",
            " [[ 0.00761038  0.00121675  0.00443863]\n",
            "  [ 0.00333674  0.01494079 -0.00205158]\n",
            "  [ 0.00313068 -0.00854096 -0.0255299 ]\n",
            "  [ 0.00653619  0.00864436 -0.00742165]]\n",
            "\n",
            " [[ 0.02269755 -0.01454366  0.00045759]\n",
            "  [-0.00187184  0.01532779  0.01469359]\n",
            "  [ 0.00154947  0.00378163 -0.00887786]\n",
            "  [-0.01980796 -0.00347912  0.00156349]]]\n",
            "Bias:  0.0\n"
          ]
        }
      ],
      "source": [
        "np.random.seed(0)\n",
        "num_qubits = 4\n",
        "num_layers = 2\n",
        "weights_init = 0.01 * np.random.randn(num_layers + 1, num_qubits, 3, requires_grad=True)\n",
        "bias_init = np.array(0.0, requires_grad=True)\n",
        "\n",
        "print(\"Weights:\", weights_init)\n",
        "print(\"Bias: \", bias_init)"
      ]
    },
    {
      "cell_type": "markdown",
      "metadata": {},
      "source": [
        "```javascript\n",
        "Any model optimized using gradient descent techniques requires an optimizer. There are many optimizers available, such as Adam, Adagrad, pure gradient descent, and Momentum. In PennyLane, many of these optimizers are implemented.\n",
        "```"
      ]
    },
    {
      "cell_type": "code",
      "execution_count": 132,
      "metadata": {
        "collapsed": false
      },
      "outputs": [],
      "source": [
        "opt = NesterovMomentumOptimizer(0.5)\n",
        "batch_size = 5"
      ]
    },
    {
      "cell_type": "markdown",
      "metadata": {},
      "source": [
        "```javascript\n",
        "The next section is the optimization (training) loop. The main thing to notice is that the predictions are passed through the np.sign() function. This is done to convert the model's output into actual predictions: any negative value is converted to -1, and any positive value is converted to +1.\n",
        "```\n"
      ]
    },
    {
      "cell_type": "code",
      "execution_count": 154,
      "metadata": {
        "collapsed": false
      },
      "outputs": [
        {
          "name": "stdout",
          "output_type": "stream",
          "text": [
            "Iter:    1 | Cost: 2.1547023 | Accuracy: 0.7000000\n",
            "Iter:    2 | Cost: 1.1460201 | Accuracy: 0.7000000\n",
            "Iter:    3 | Cost: 1.1519004 | Accuracy: 0.7000000\n",
            "Iter:    4 | Cost: 0.9526674 | Accuracy: 0.7000000\n",
            "Iter:    5 | Cost: 1.0458406 | Accuracy: 0.7000000\n",
            "Iter:    6 | Cost: 0.5855633 | Accuracy: 0.8000000\n",
            "Iter:    7 | Cost: 0.3056156 | Accuracy: 1.0000000\n",
            "Iter:    8 | Cost: 0.0168400 | Accuracy: 1.0000000\n",
            "Iter:    9 | Cost: 0.0168087 | Accuracy: 1.0000000\n",
            "Iter:   10 | Cost: 0.0465406 | Accuracy: 1.0000000\n",
            "Iter:   11 | Cost: 0.0559354 | Accuracy: 1.0000000\n",
            "Iter:   12 | Cost: 0.0322099 | Accuracy: 1.0000000\n",
            "Iter:   13 | Cost: 0.0230070 | Accuracy: 1.0000000\n",
            "Iter:   14 | Cost: 0.0272010 | Accuracy: 1.0000000\n",
            "Iter:   15 | Cost: 0.0519792 | Accuracy: 1.0000000\n",
            "Iter:   16 | Cost: 0.2157166 | Accuracy: 1.0000000\n",
            "Iter:   17 | Cost: 0.0865568 | Accuracy: 1.0000000\n",
            "Iter:   18 | Cost: 0.5063827 | Accuracy: 1.0000000\n",
            "Iter:   19 | Cost: 0.2028515 | Accuracy: 1.0000000\n",
            "Iter:   20 | Cost: 0.8933117 | Accuracy: 0.5000000\n",
            "Iter:   21 | Cost: 1.2954943 | Accuracy: 0.6000000\n",
            "Iter:   22 | Cost: 1.0378887 | Accuracy: 0.6000000\n",
            "Iter:   23 | Cost: 0.9451947 | Accuracy: 0.6000000\n",
            "Iter:   24 | Cost: 0.7286614 | Accuracy: 0.7000000\n",
            "Iter:   25 | Cost: 0.8115373 | Accuracy: 0.5000000\n",
            "Iter:   26 | Cost: 0.1971254 | Accuracy: 1.0000000\n",
            "Iter:   27 | Cost: 0.8132014 | Accuracy: 0.6000000\n",
            "Iter:   28 | Cost: 2.2989988 | Accuracy: 0.4000000\n",
            "Iter:   29 | Cost: 1.3189202 | Accuracy: 0.5000000\n",
            "Iter:   30 | Cost: 1.4456265 | Accuracy: 0.7000000\n",
            "Iter:   31 | Cost: 1.1482840 | Accuracy: 0.7000000\n",
            "Iter:   32 | Cost: 0.7098750 | Accuracy: 0.8000000\n",
            "Iter:   33 | Cost: 0.8252590 | Accuracy: 0.7000000\n",
            "Iter:   34 | Cost: 1.1939349 | Accuracy: 0.6000000\n",
            "Iter:   35 | Cost: 0.9439670 | Accuracy: 0.6000000\n",
            "Iter:   36 | Cost: 1.3911410 | Accuracy: 0.6000000\n",
            "Iter:   37 | Cost: 0.6960416 | Accuracy: 0.7000000\n",
            "Iter:   38 | Cost: 0.9684019 | Accuracy: 0.5000000\n",
            "Iter:   39 | Cost: 0.5409897 | Accuracy: 0.8000000\n",
            "Iter:   40 | Cost: 0.6595425 | Accuracy: 0.7000000\n",
            "Iter:   41 | Cost: 0.6687713 | Accuracy: 0.7000000\n",
            "Iter:   42 | Cost: 1.2250352 | Accuracy: 0.6000000\n",
            "Iter:   43 | Cost: 0.6893693 | Accuracy: 0.7000000\n",
            "Iter:   44 | Cost: 0.6339857 | Accuracy: 0.8000000\n",
            "Iter:   45 | Cost: 0.8584929 | Accuracy: 0.6000000\n",
            "Iter:   46 | Cost: 0.6986100 | Accuracy: 0.6000000\n",
            "Iter:   47 | Cost: 0.9271335 | Accuracy: 0.6000000\n",
            "Iter:   48 | Cost: 1.3872095 | Accuracy: 0.4000000\n",
            "Iter:   49 | Cost: 1.7536320 | Accuracy: 0.4000000\n",
            "Iter:   50 | Cost: 0.9568310 | Accuracy: 0.6000000\n",
            "Iter:   51 | Cost: 1.2613297 | Accuracy: 0.6000000\n",
            "Iter:   52 | Cost: 1.3125928 | Accuracy: 0.7000000\n",
            "Iter:   53 | Cost: 1.2978600 | Accuracy: 0.6000000\n",
            "Iter:   54 | Cost: 0.9677756 | Accuracy: 0.6000000\n",
            "Iter:   55 | Cost: 0.7204680 | Accuracy: 0.8000000\n",
            "Iter:   56 | Cost: 1.1681997 | Accuracy: 0.4000000\n",
            "Iter:   57 | Cost: 1.5662834 | Accuracy: 0.4000000\n",
            "Iter:   58 | Cost: 1.0003980 | Accuracy: 0.7000000\n",
            "Iter:   59 | Cost: 1.2094253 | Accuracy: 0.6000000\n",
            "Iter:   60 | Cost: 0.8899729 | Accuracy: 0.8000000\n",
            "Iter:   61 | Cost: 0.9297693 | Accuracy: 0.6000000\n",
            "Iter:   62 | Cost: 0.9493946 | Accuracy: 0.6000000\n",
            "Iter:   63 | Cost: 0.6898137 | Accuracy: 0.7000000\n",
            "Iter:   64 | Cost: 0.8369288 | Accuracy: 0.7000000\n",
            "Iter:   65 | Cost: 1.4173879 | Accuracy: 0.5000000\n",
            "Iter:   66 | Cost: 0.6589267 | Accuracy: 0.7000000\n",
            "Iter:   67 | Cost: 0.6044288 | Accuracy: 0.8000000\n",
            "Iter:   68 | Cost: 0.7186130 | Accuracy: 0.8000000\n",
            "Iter:   69 | Cost: 1.0410027 | Accuracy: 0.6000000\n",
            "Iter:   70 | Cost: 0.8981745 | Accuracy: 0.6000000\n",
            "Iter:   71 | Cost: 0.9084242 | Accuracy: 0.6000000\n",
            "Iter:   72 | Cost: 0.7892111 | Accuracy: 0.6000000\n",
            "Iter:   73 | Cost: 0.6313068 | Accuracy: 0.8000000\n",
            "Iter:   74 | Cost: 1.0284445 | Accuracy: 0.8000000\n",
            "Iter:   75 | Cost: 0.9574663 | Accuracy: 0.7000000\n",
            "Iter:   76 | Cost: 0.8019857 | Accuracy: 0.7000000\n",
            "Iter:   77 | Cost: 0.9125088 | Accuracy: 0.6000000\n",
            "Iter:   78 | Cost: 1.0688368 | Accuracy: 0.6000000\n",
            "Iter:   79 | Cost: 0.7368622 | Accuracy: 0.6000000\n",
            "Iter:   80 | Cost: 0.8855069 | Accuracy: 0.6000000\n",
            "Iter:   81 | Cost: 0.5814847 | Accuracy: 0.8000000\n",
            "Iter:   82 | Cost: 0.5260757 | Accuracy: 0.8000000\n",
            "Iter:   83 | Cost: 0.7058001 | Accuracy: 0.8000000\n",
            "Iter:   84 | Cost: 0.7896030 | Accuracy: 0.6000000\n",
            "Iter:   85 | Cost: 0.7558814 | Accuracy: 0.6000000\n",
            "Iter:   86 | Cost: 0.6407925 | Accuracy: 0.8000000\n",
            "Iter:   87 | Cost: 0.4782480 | Accuracy: 1.0000000\n",
            "Iter:   88 | Cost: 0.7041546 | Accuracy: 0.5000000\n",
            "Iter:   89 | Cost: 0.4238791 | Accuracy: 1.0000000\n",
            "Iter:   90 | Cost: 0.1860642 | Accuracy: 1.0000000\n",
            "Iter:   91 | Cost: 0.0710031 | Accuracy: 1.0000000\n",
            "Iter:   92 | Cost: 0.1604789 | Accuracy: 1.0000000\n",
            "Iter:   93 | Cost: 0.0666083 | Accuracy: 1.0000000\n",
            "Iter:   94 | Cost: 0.1076422 | Accuracy: 1.0000000\n",
            "Iter:   95 | Cost: 0.1103465 | Accuracy: 1.0000000\n",
            "Iter:   96 | Cost: 0.0721166 | Accuracy: 1.0000000\n",
            "Iter:   97 | Cost: 0.0081934 | Accuracy: 1.0000000\n",
            "Iter:   98 | Cost: 0.0028921 | Accuracy: 1.0000000\n",
            "Iter:   99 | Cost: 0.0260930 | Accuracy: 1.0000000\n",
            "Iter:  100 | Cost: 0.0113881 | Accuracy: 1.0000000\n"
          ]
        }
      ],
      "source": [
        "weights = weights_init\n",
        "bias = bias_init\n",
        "for it in range(100):\n",
        "\n",
        "    # Update the weights by one optimizer step, using only a limited batch of data\n",
        "    batch_index = np.random.randint(0, len(X), (batch_size,))\n",
        "    X_batch = X[batch_index]\n",
        "    Y_batch = Y[batch_index]\n",
        "    weights, bias = opt.step(cost, weights, bias, X=X_batch, Y=Y_batch)\n",
        "\n",
        "    # Compute accuracy\n",
        "    predictions = [np.sign(variational_classifier(weights, bias, x)) for x in X]\n",
        "\n",
        "    current_cost = cost(weights, bias, X, Y)\n",
        "    acc = accuracy(Y, predictions)\n",
        "\n",
        "    print(f\"Iter: {it+1:4d} | Cost: {current_cost:0.7f} | Accuracy: {acc:0.7f}\")"
      ]
    },
    {
      "cell_type": "code",
      "execution_count": 20,
      "metadata": {},
      "outputs": [
        {
          "data": {
            "text/plain": [
              "(tensor([[[ 1.76405235e-02,  1.56275530e+00,  9.41007496e+00],\n",
              "          [ 2.24089320e-02,  1.73042677e+01, -3.18095132e+00],\n",
              "          [ 9.50088418e-03,  3.15957666e+00, -1.32954606e-01],\n",
              "          [ 4.10598502e-03,  4.72194868e+00,  4.52141863e-02]],\n",
              " \n",
              "         [[ 7.61037725e-03,  1.21675016e-03,  4.43863233e-03],\n",
              "          [-9.13257927e-01,  2.55275727e-02, -2.05158264e-03],\n",
              "          [-1.08400003e+01, -1.57068301e+01, -2.55298982e-02],\n",
              "          [-1.80411655e-02, -2.35109405e+01, -7.42165020e-03]]], requires_grad=True),\n",
              " tensor(0.00083823, requires_grad=True))"
            ]
          },
          "execution_count": 20,
          "metadata": {},
          "output_type": "execute_result"
        }
      ],
      "source": [
        "weights , bias"
      ]
    },
    {
      "cell_type": "markdown",
      "metadata": {},
      "source": [
        "```javascript\n",
        "Just as in machine learning, we want to assess the generalization ability of our model. This is done by evaluating the model on examples it has never seen before. For this purpose, we use the test data.\n",
        "```\n"
      ]
    },
    {
      "cell_type": "code",
      "execution_count": 21,
      "metadata": {
        "collapsed": false
      },
      "outputs": [
        {
          "name": "stdout",
          "output_type": "stream",
          "text": [
            "x = [0 0 0 0], y = -1, pred=-1.0\n",
            "x = [0 0 1 1], y = -1, pred=-1.0\n",
            "x = [1 0 1 0], y = -1, pred=-1.0\n",
            "x = [1 1 1 0], y = 1, pred=1.0\n",
            "x = [1 1 0 0], y = -1, pred=-1.0\n",
            "x = [1 1 0 1], y = 1, pred=1.0\n",
            "Accuracy on unseen data: 1.0\n"
          ]
        }
      ],
      "source": [
        "data = np.loadtxt(\"https://raw.githubusercontent.com/XanaduAI/qml/master/_static/demonstration_assets/variational_classifier/data/parity_test.txt\", dtype=int)\n",
        "X_test = np.array(data[:, :-1])\n",
        "Y_test = np.array(data[:, -1])\n",
        "Y_test = Y_test * 2 - 1  # shift label from {0, 1} to {-1, 1}\n",
        "    \n",
        "predictions_test = [np.sign(variational_classifier(weights, bias, x)) for x in X_test]\n",
        "\n",
        "for x,y,p in zip(X_test, Y_test, predictions_test):\n",
        "    print(f\"x = {x}, y = {y}, pred={p}\")\n",
        "    \n",
        "acc_test = accuracy(Y_test, predictions_test)\n",
        "print(\"Accuracy on unseen data:\", acc_test)"
      ]
    },
    {
      "cell_type": "markdown",
      "metadata": {},
      "source": [
        "# Iris classification\n",
        "\n",
        "```java\n",
        "This tutorial also demonstrated how to train a model for even more complex data, in this case the encoding of the data was done base on the next code, which converts any vector X into another vector W compose of pure angles\n",
        "```"
      ]
    },
    {
      "cell_type": "code",
      "execution_count": 24,
      "metadata": {
        "collapsed": false
      },
      "outputs": [],
      "source": [
        "def get_angles(x):\n",
        "    beta0 = 2 * np.arcsin(np.sqrt(x[1] ** 2) / np.sqrt(x[0] ** 2 + x[1] ** 2 + 1e-12))\n",
        "    beta1 = 2 * np.arcsin(np.sqrt(x[3] ** 2) / np.sqrt(x[2] ** 2 + x[3] ** 2 + 1e-12))\n",
        "    beta2 = 2 * np.arcsin(np.linalg.norm(x[2:]) / np.linalg.norm(x))\n",
        "\n",
        "    return np.array([beta2, -beta1 / 2, beta1 / 2, -beta0 / 2, beta0 / 2])\n",
        "\n",
        "\n",
        "def state_preparation(a):\n",
        "    qml.RY(a[0], wires=0)\n",
        "\n",
        "    qml.CNOT(wires=[0, 1])\n",
        "    qml.RY(a[1], wires=1)\n",
        "    qml.CNOT(wires=[0, 1])\n",
        "    qml.RY(a[2], wires=1)\n",
        "\n",
        "    qml.PauliX(wires=0)\n",
        "    qml.CNOT(wires=[0, 1])\n",
        "    qml.RY(a[3], wires=1)\n",
        "    qml.CNOT(wires=[0, 1])\n",
        "    qml.RY(a[4], wires=1)\n",
        "    qml.PauliX(wires=0)"
      ]
    },
    {
      "cell_type": "markdown",
      "metadata": {},
      "source": [
        "```java\n",
        "This code was just for testing, as we can see any 4 dimensional vector is converted first in angles and then into an amplitud vector\n",
        "```\n"
      ]
    },
    {
      "cell_type": "code",
      "execution_count": 25,
      "metadata": {
        "collapsed": false
      },
      "outputs": [
        {
          "name": "stdout",
          "output_type": "stream",
          "text": [
            "x               :  [0.538968 0.795036 0.278265 0.      ]\n",
            "angles          :  [ 0.563975 -0.        0.       -0.975046  0.975046]\n",
            "amplitude vector:  [ 0.538968  0.795036  0.278265 -0.      ]\n"
          ]
        }
      ],
      "source": [
        "x = np.array([0.53896774, 0.79503606, 0.27826503, 0.0], requires_grad=False)\n",
        "ang = get_angles(x)\n",
        "\n",
        "\n",
        "@qml.qnode(dev)\n",
        "def test(angles):\n",
        "    state_preparation(angles)\n",
        "\n",
        "    return qml.state()\n",
        "\n",
        "\n",
        "state = test(ang)\n",
        "\n",
        "print(\"x               : \", np.round(x, 6))\n",
        "print(\"angles          : \", np.round(ang, 6))\n",
        "print(\"amplitude vector: \", np.round(np.real(state), 6))"
      ]
    },
    {
      "cell_type": "markdown",
      "metadata": {},
      "source": [
        "```javascript\n",
        "Same as before we need to define our layers, our circuit and our cost function, in this case the metric was not defined because we use the same as before\n",
        "```"
      ]
    },
    {
      "cell_type": "code",
      "execution_count": 26,
      "metadata": {
        "collapsed": false
      },
      "outputs": [],
      "source": [
        "def layer(layer_weights):\n",
        "    for wire in range(2):\n",
        "        qml.Rot(*layer_weights[wire], wires=wire)\n",
        "    qml.CNOT(wires=[0, 1])\n",
        "\n",
        "\n",
        "def cost(weights, bias, X, Y):\n",
        "    # Transpose the batch of input data in order to make the indexing\n",
        "    # in state_preparation work\n",
        "    predictions = variational_classifier(weights, bias, X.T)\n",
        "    return square_loss(Y, predictions)"
      ]
    },
    {
      "cell_type": "markdown",
      "metadata": {},
      "source": [
        "```java\n",
        "In this section, we gather the data and apply various transformations. For example, we first convert 2-dimensional vectors into 4-dimensional vectors. Next, we normalize these vectors. Finally, we apply angle encoding, which transforms the data into 5-dimensional vectors.\n",
        "```"
      ]
    },
    {
      "cell_type": "code",
      "execution_count": 27,
      "metadata": {
        "collapsed": false
      },
      "outputs": [
        {
          "name": "stdout",
          "output_type": "stream",
          "text": [
            "First X sample (original)  : [0.4  0.75]\n",
            "First X sample (padded)    : [0.4  0.75 0.1  0.1 ]\n",
            "First X sample (normalized): [0.46420708 0.87038828 0.11605177 0.11605177]\n",
            "First features sample      : [ 0.32973573 -0.78539816  0.78539816 -1.080839    1.080839  ]\n"
          ]
        }
      ],
      "source": [
        "data = np.loadtxt(\"https://raw.githubusercontent.com/XanaduAI/qml/master/_static/demonstration_assets/variational_classifier/data/iris_classes1and2_scaled.txt\")\n",
        "X = data[:, 0:2]\n",
        "print(f\"First X sample (original)  : {X[0]}\")\n",
        "\n",
        "# pad the vectors to size 2^2=4 with constant values\n",
        "padding = np.ones((len(X), 2)) * 0.1\n",
        "X_pad = np.c_[X, padding]\n",
        "print(f\"First X sample (padded)    : {X_pad[0]}\")\n",
        "\n",
        "# normalize each input\n",
        "normalization = np.sqrt(np.sum(X_pad**2, -1))\n",
        "X_norm = (X_pad.T / normalization).T\n",
        "print(f\"First X sample (normalized): {X_norm[0]}\")\n",
        "\n",
        "# the angles for state preparation are the features\n",
        "features = np.array([get_angles(x) for x in X_norm], requires_grad=False)\n",
        "print(f\"First features sample      : {features[0]}\")\n",
        "\n",
        "Y = data[:, -1]"
      ]
    },
    {
      "cell_type": "markdown",
      "metadata": {},
      "source": [
        "```java\n",
        "This part of the script handles plotting the data. As observed, the original data is already linearly separable, meaning any linear model could solve this classification task. Additionally, the second and third plots show data that is also linearly separable.\n",
        "```"
      ]
    },
    {
      "cell_type": "code",
      "execution_count": 34,
      "metadata": {
        "collapsed": false
      },
      "outputs": [
        {
          "data": {
            "image/png": "[encoded data removed]",
            "text/plain": [
              "<Figure size 640x480 with 1 Axes>"
            ]
          },
          "metadata": {},
          "output_type": "display_data"
        },
        {
          "data": {
            "image/png": "[encoded data removed]",
            "text/plain": [
              "<Figure size 640x480 with 1 Axes>"
            ]
          },
          "metadata": {},
          "output_type": "display_data"
        },
        {
          "data": {
            "image/png": "[encoded data removed]",
            "text/plain": [
              "<Figure size 640x480 with 1 Axes>"
            ]
          },
          "metadata": {},
          "output_type": "display_data"
        }
      ],
      "source": [
        "import matplotlib.pyplot as plt\n",
        "\n",
        "plt.figure()\n",
        "plt.scatter(X[:, 0][Y == 1], X[:, 1][Y == 1], c=\"b\", marker=\"o\", ec=\"k\")\n",
        "plt.scatter(X[:, 0][Y == -1], X[:, 1][Y == -1], c=\"r\", marker=\"o\", ec=\"k\")\n",
        "plt.title(\"Original data\")\n",
        "plt.show()\n",
        "\n",
        "plt.figure()\n",
        "dim1 = 0\n",
        "dim2 = 1\n",
        "plt.scatter(X_norm[:, dim1][Y == 1], X_norm[:, dim2][Y == 1], c=\"b\", marker=\"o\", ec=\"k\")\n",
        "plt.scatter(X_norm[:, dim1][Y == -1], X_norm[:, dim2][Y == -1], c=\"r\", marker=\"o\", ec=\"k\")\n",
        "plt.title(f\"Padded and normalised data (dims {dim1} and {dim2})\")\n",
        "plt.show()\n",
        "\n",
        "plt.figure()\n",
        "dim1 = 0\n",
        "dim2 = 3\n",
        "plt.scatter(features[:, dim1][Y == 1], features[:, dim2][Y == 1], c=\"b\", marker=\"o\", ec=\"k\")\n",
        "plt.scatter(features[:, dim1][Y == -1], features[:, dim2][Y == -1], c=\"r\", marker=\"o\", ec=\"k\")\n",
        "plt.title(f\"Feature vectors (dims {dim1} and {dim2})\")\n",
        "plt.show()"
      ]
    },
    {
      "cell_type": "markdown",
      "metadata": {},
      "source": [
        "```java\n",
        "Finally same as the problem before, we can optimize the model to be able to make predictions, here we create some variables and take part of the data for training the circuit.\n",
        "```"
      ]
    },
    {
      "cell_type": "code",
      "execution_count": 38,
      "metadata": {
        "collapsed": false
      },
      "outputs": [],
      "source": [
        "np.random.seed(0)\n",
        "num_data = len(Y)\n",
        "num_train = int(0.75 * num_data)\n",
        "index = np.random.permutation(range(num_data))\n",
        "feats_train = features[index[:num_train]]\n",
        "Y_train = Y[index[:num_train]]\n",
        "feats_val = features[index[num_train:]]\n",
        "Y_val = Y[index[num_train:]]\n",
        "\n",
        "# We need these later for plotting\n",
        "X_train = X[index[:num_train]]\n",
        "X_val = X[index[num_train:]]"
      ]
    },
    {
      "cell_type": "code",
      "execution_count": 51,
      "metadata": {
        "collapsed": false
      },
      "outputs": [],
      "source": [
        "num_qubits = 2\n",
        "num_layers = 6\n",
        "\n",
        "weights_init = 0.01 * np.random.randn(num_layers, num_qubits, 3, requires_grad=True)\n",
        "bias_init = np.array(0.0, requires_grad=True)"
      ]
    },
    {
      "cell_type": "markdown",
      "metadata": {},
      "source": [
        "### **Optimization of the second problem**\n"
      ]
    },
    {
      "cell_type": "code",
      "execution_count": 53,
      "metadata": {
        "collapsed": false
      },
      "outputs": [
        {
          "name": "stdout",
          "output_type": "stream",
          "text": [
            "Iter:     2 | Cost: 1.6208140 | Acc train: 0.4800000 | Acc validation: 0.5600000\n",
            "Iter:     4 | Cost: 1.2556744 | Acc train: 0.4933333 | Acc validation: 0.5600000\n",
            "Iter:     6 | Cost: 1.0046104 | Acc train: 0.4533333 | Acc validation: 0.5600000\n",
            "Iter:     8 | Cost: 0.9779141 | Acc train: 0.6000000 | Acc validation: 0.5200000\n",
            "Iter:    10 | Cost: 1.1040985 | Acc train: 0.5200000 | Acc validation: 0.4400000\n",
            "Iter:    12 | Cost: 1.0389020 | Acc train: 0.5200000 | Acc validation: 0.4400000\n",
            "Iter:    14 | Cost: 0.8461431 | Acc train: 0.7200000 | Acc validation: 0.6800000\n",
            "Iter:    16 | Cost: 0.9086640 | Acc train: 0.4933333 | Acc validation: 0.5600000\n",
            "Iter:    18 | Cost: 0.9447327 | Acc train: 0.4933333 | Acc validation: 0.5600000\n",
            "Iter:    20 | Cost: 0.9065158 | Acc train: 0.4933333 | Acc validation: 0.5600000\n",
            "Iter:    22 | Cost: 0.7977272 | Acc train: 0.5600000 | Acc validation: 0.6400000\n",
            "Iter:    24 | Cost: 0.6314015 | Acc train: 0.9200000 | Acc validation: 1.0000000\n",
            "Iter:    26 | Cost: 0.5153030 | Acc train: 0.8933333 | Acc validation: 0.8800000\n",
            "Iter:    28 | Cost: 0.4621832 | Acc train: 0.8933333 | Acc validation: 0.8400000\n",
            "Iter:    30 | Cost: 0.3990566 | Acc train: 0.9066667 | Acc validation: 0.8800000\n",
            "Iter:    32 | Cost: 0.3037849 | Acc train: 0.9600000 | Acc validation: 1.0000000\n",
            "Iter:    34 | Cost: 0.2611782 | Acc train: 1.0000000 | Acc validation: 1.0000000\n",
            "Iter:    36 | Cost: 0.2689642 | Acc train: 1.0000000 | Acc validation: 1.0000000\n",
            "Iter:    38 | Cost: 0.2956930 | Acc train: 0.9600000 | Acc validation: 0.9200000\n",
            "Iter:    40 | Cost: 0.2928051 | Acc train: 0.9600000 | Acc validation: 0.9200000\n",
            "Iter:    42 | Cost: 0.2763366 | Acc train: 0.9733333 | Acc validation: 0.9200000\n",
            "Iter:    44 | Cost: 0.2558042 | Acc train: 1.0000000 | Acc validation: 1.0000000\n",
            "Iter:    46 | Cost: 0.2329400 | Acc train: 1.0000000 | Acc validation: 1.0000000\n",
            "Iter:    48 | Cost: 0.2273062 | Acc train: 1.0000000 | Acc validation: 1.0000000\n",
            "Iter:    50 | Cost: 0.2379027 | Acc train: 0.9866667 | Acc validation: 1.0000000\n",
            "Iter:    52 | Cost: 0.2477427 | Acc train: 0.9866667 | Acc validation: 1.0000000\n",
            "Iter:    54 | Cost: 0.2409108 | Acc train: 0.9866667 | Acc validation: 1.0000000\n",
            "Iter:    56 | Cost: 0.2234940 | Acc train: 1.0000000 | Acc validation: 1.0000000\n",
            "Iter:    58 | Cost: 0.2178042 | Acc train: 1.0000000 | Acc validation: 1.0000000\n",
            "Iter:    60 | Cost: 0.2168025 | Acc train: 1.0000000 | Acc validation: 1.0000000\n",
            "Iter:    62 | Cost: 0.2177323 | Acc train: 1.0000000 | Acc validation: 1.0000000\n",
            "Iter:    64 | Cost: 0.2148406 | Acc train: 1.0000000 | Acc validation: 1.0000000\n",
            "Iter:    66 | Cost: 0.2147442 | Acc train: 1.0000000 | Acc validation: 1.0000000\n",
            "Iter:    68 | Cost: 0.2174081 | Acc train: 1.0000000 | Acc validation: 1.0000000\n",
            "Iter:    70 | Cost: 0.2213974 | Acc train: 0.9866667 | Acc validation: 1.0000000\n",
            "Iter:    72 | Cost: 0.2148676 | Acc train: 1.0000000 | Acc validation: 1.0000000\n",
            "Iter:    74 | Cost: 0.2120584 | Acc train: 1.0000000 | Acc validation: 1.0000000\n",
            "Iter:    76 | Cost: 0.2114112 | Acc train: 1.0000000 | Acc validation: 1.0000000\n",
            "Iter:    78 | Cost: 0.2125539 | Acc train: 1.0000000 | Acc validation: 1.0000000\n",
            "Iter:    80 | Cost: 0.2170139 | Acc train: 1.0000000 | Acc validation: 1.0000000\n",
            "Iter:    82 | Cost: 0.2182974 | Acc train: 1.0000000 | Acc validation: 1.0000000\n",
            "Iter:    84 | Cost: 0.2165847 | Acc train: 1.0000000 | Acc validation: 1.0000000\n",
            "Iter:    86 | Cost: 0.2129535 | Acc train: 1.0000000 | Acc validation: 1.0000000\n",
            "Iter:    88 | Cost: 0.2149720 | Acc train: 1.0000000 | Acc validation: 1.0000000\n",
            "Iter:    90 | Cost: 0.2114803 | Acc train: 1.0000000 | Acc validation: 1.0000000\n",
            "Iter:    92 | Cost: 0.2146553 | Acc train: 1.0000000 | Acc validation: 1.0000000\n",
            "Iter:    94 | Cost: 0.2274260 | Acc train: 0.9866667 | Acc validation: 1.0000000\n",
            "Iter:    96 | Cost: 0.2190782 | Acc train: 0.9866667 | Acc validation: 1.0000000\n",
            "Iter:    98 | Cost: 0.2115026 | Acc train: 1.0000000 | Acc validation: 1.0000000\n",
            "Iter:   100 | Cost: 0.2109329 | Acc train: 1.0000000 | Acc validation: 1.0000000\n"
          ]
        }
      ],
      "source": [
        "opt = NesterovMomentumOptimizer(0.01)\n",
        "batch_size = 5\n",
        "\n",
        "# train the variational classifier\n",
        "weights = weights_init\n",
        "bias = bias_init\n",
        "for it in range(100):\n",
        "    # Update the weights by one optimizer step\n",
        "    batch_index = np.random.randint(0, num_train, (batch_size,))\n",
        "    feats_train_batch = feats_train[batch_index]\n",
        "    Y_train_batch = Y_train[batch_index]\n",
        "    weights, bias, _, _ = opt.step(cost, weights, bias, feats_train_batch, Y_train_batch)\n",
        "\n",
        "    # Compute predictions on train and validation set\n",
        "    predictions_train = np.sign(variational_classifier(weights, bias, feats_train.T))\n",
        "    predictions_val = np.sign(variational_classifier(weights, bias, feats_val.T))\n",
        "\n",
        "    # Compute accuracy on train and validation set\n",
        "    acc_train = accuracy(Y_train, predictions_train)\n",
        "    acc_val = accuracy(Y_val, predictions_val)\n",
        "\n",
        "    if (it + 1) % 2 == 0:\n",
        "        _cost = cost(weights, bias, features, Y)\n",
        "        print(\n",
        "            f\"Iter: {it + 1:5d} | Cost: {_cost:0.7f} | \"\n",
        "            f\"Acc train: {acc_train:0.7f} | Acc validation: {acc_val:0.7f}\"\n",
        "        )"
      ]
    },
    {
      "cell_type": "markdown",
      "metadata": {},
      "source": [
        "```java\n",
        "After training using the next cell, we can observe how the variational classifier makes its predictions. The center of the plot represents the boundary between the classes.\n",
        "```"
      ]
    },
    {
      "cell_type": "code",
      "execution_count": 56,
      "metadata": {
        "collapsed": false
      },
      "outputs": [
        {
          "data": {
            "image/png": "[encoded data removed]",
            "text/plain": [
              "<Figure size 640x480 with 2 Axes>"
            ]
          },
          "metadata": {},
          "output_type": "display_data"
        }
      ],
      "source": [
        "plt.figure()\n",
        "cm = plt.cm.RdBu\n",
        "\n",
        "# make data for decision regions\n",
        "xx, yy = np.meshgrid(np.linspace(0.0, 1.5, 30), np.linspace(0.0, 1.5, 30))\n",
        "X_grid = [np.array([x, y]) for x, y in zip(xx.flatten(), yy.flatten())]\n",
        "\n",
        "# preprocess grid points like data inputs above\n",
        "padding = 0.1 * np.ones((len(X_grid), 2))\n",
        "X_grid = np.c_[X_grid, padding]  # pad each input\n",
        "normalization = np.sqrt(np.sum(X_grid**2, -1))\n",
        "X_grid = (X_grid.T / normalization).T  # normalize each input\n",
        "features_grid = np.array([get_angles(x) for x in X_grid])  # angles are new features\n",
        "predictions_grid = variational_classifier(weights, bias, features_grid.T)\n",
        "Z = np.reshape(predictions_grid, xx.shape)\n",
        "\n",
        "# plot decision regions\n",
        "levels = np.arange(-1, 1.1, 0.1)\n",
        "cnt = plt.contourf(xx, yy, Z, levels=levels, cmap=cm, alpha=0.8, extend=\"both\")\n",
        "plt.contour(xx, yy, Z, levels=[0.0], colors=(\"black\",), linestyles=(\"--\",), linewidths=(0.8,))\n",
        "plt.colorbar(cnt, ticks=[-1, 0, 1])\n",
        "\n",
        "# plot data\n",
        "for color, label in zip([\"b\", \"r\"], [1, -1]):\n",
        "    plot_x = X_train[:, 0][Y_train == label]\n",
        "    plot_y = X_train[:, 1][Y_train == label]\n",
        "    plt.scatter(plot_x, plot_y, c=color, marker=\"o\", ec=\"k\", label=f\"class {label} train\")\n",
        "    plot_x = (X_val[:, 0][Y_val == label],)\n",
        "    plot_y = (X_val[:, 1][Y_val == label],)\n",
        "    plt.scatter(plot_x, plot_y, c=color, marker=\"^\", ec=\"k\", label=f\"class {label} validation\")\n",
        "\n",
        "plt.legend()\n",
        "plt.show()"
      ]
    }
  ],
  "metadata": {
    "kernelspec": {
      "display_name": "Python 3",
      "language": "python",
      "name": "python3"
    },
    "language_info": {
      "codemirror_mode": {
        "name": "ipython",
        "version": 3
      },
      "file_extension": ".py",
      "mimetype": "text/x-python",
      "name": "python",
      "nbconvert_exporter": "python",
      "pygments_lexer": "ipython3",
      "version": "3.12.3"
    }
  },
  "nbformat": 4,
  "nbformat_minor": 0
}
