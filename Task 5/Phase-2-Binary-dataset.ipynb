{
  "cells": [
    {
      "cell_type": "markdown",
      "metadata": {
        "id": "pXjvemt_hmAU"
      },
      "source": [
        "## **Creating a binary dataset**\n",
        "\n",
        "\n",
        "```Javascript\n",
        "In this notebook, we aimed to preprocess the data and create a binary dataset using the Hugging Face library. This library offers significant advantages in image dataset creation, primarily due to its memory mapping method for loading datasets. This approach allows us to efficiently handle and modify large datasets, such as our 6GB collection of images. All of this processing was done on Kaggle, as it facilitated easier online data loading.\n",
        "```\n",
        "\n",
        "\n"
      ]
    },
    {
      "cell_type": "markdown",
      "metadata": {},
      "source": [
        "## **Login in hugging face**"
      ]
    },
    {
      "cell_type": "code",
      "execution_count": null,
      "metadata": {
        "execution": {
          "iopub.execute_input": "2024-08-03T04:51:58.640912Z",
          "iopub.status.busy": "2024-08-03T04:51:58.640661Z",
          "iopub.status.idle": "2024-08-03T04:52:00.432482Z",
          "shell.execute_reply": "2024-08-03T04:52:00.431458Z",
          "shell.execute_reply.started": "2024-08-03T04:51:58.640888Z"
        },
        "id": "UHKb4nBhhmAW",
        "outputId": "ad4c9723-0c34-4839-a50e-faafe03c325e",
        "trusted": true
      },
      "outputs": [
        {
          "name": "stdout",
          "output_type": "stream",
          "text": [
            "The token has not been saved to the git credentials helper. Pass `add_to_git_credential=True` in this function directly or `--add-to-git-credential` if using via `huggingface-cli` if you want to set the git credential as well.\n",
            "Token is valid (permission: write).\n",
            "Your token has been saved to /root/.cache/huggingface/token\n",
            "Login successful\n"
          ]
        }
      ],
      "source": [
        "!huggingface-cli login --token \"\""
      ]
    },
    {
      "cell_type": "markdown",
      "metadata": {},
      "source": [
        "## **Imports**"
      ]
    },
    {
      "cell_type": "code",
      "execution_count": 1,
      "metadata": {},
      "outputs": [],
      "source": [
        "from datasets import load_dataset\n",
        "from datasets import concatenate_datasets"
      ]
    },
    {
      "cell_type": "markdown",
      "metadata": {},
      "source": [
        "## **Loading the dataset**\n",
        "\n",
        "```javascript\n",
        "We decided to combine the training and test sets to resample the data. This is done in the second line of this cell.\n",
        "``` "
      ]
    },
    {
      "cell_type": "code",
      "execution_count": null,
      "metadata": {
        "execution": {
          "iopub.execute_input": "2024-07-29T00:33:49.641878Z",
          "iopub.status.busy": "2024-07-29T00:33:49.640992Z",
          "iopub.status.idle": "2024-07-29T00:33:49.648245Z",
          "shell.execute_reply": "2024-07-29T00:33:49.647219Z",
          "shell.execute_reply.started": "2024-07-29T00:33:49.641842Z"
        },
        "id": "jIL_UFaohmAX",
        "trusted": true
      },
      "outputs": [],
      "source": [
        "# Cargar el dataset\n",
        "dataset = load_dataset(\"imagefolder\", data_dir=\"/kaggle/input/womanium-dataset\")\n",
        "dataset = concatenate_datasets([dataset['train'], dataset['test']])"
      ]
    },
    {
      "cell_type": "markdown",
      "metadata": {},
      "source": [
        "## **Getting the labels**\n",
        "\n",
        "```javascript\n",
        "As we can see, the labels have changed and are not the original ones. This is because the load_dataset() function assigns labels in alphabetical order, causing the shift in label assignments.\n",
        "```"
      ]
    },
    {
      "cell_type": "code",
      "execution_count": null,
      "metadata": {
        "execution": {
          "iopub.execute_input": "2024-07-29T00:33:53.209733Z",
          "iopub.status.busy": "2024-07-29T00:33:53.209342Z",
          "iopub.status.idle": "2024-07-29T00:33:53.216565Z",
          "shell.execute_reply": "2024-07-29T00:33:53.215515Z",
          "shell.execute_reply.started": "2024-07-29T00:33:53.209703Z"
        },
        "id": "C5hQOUCxhmAY",
        "outputId": "837f56e1-73a8-4ff1-9692-e1e4520cea83",
        "trusted": true
      },
      "outputs": [
        {
          "data": {
            "text/plain": [
              "({'burn through': '0',\n",
              "  'contamination': '1',\n",
              "  'good weld': '2',\n",
              "  'lack of fusion': '3',\n",
              "  'lack of penetration': '4',\n",
              "  'misalignment': '5'},\n",
              " {'0': 'burn through',\n",
              "  '1': 'contamination',\n",
              "  '2': 'good weld',\n",
              "  '3': 'lack of fusion',\n",
              "  '4': 'lack of penetration',\n",
              "  '5': 'misalignment'})"
            ]
          },
          "execution_count": 11,
          "metadata": {},
          "output_type": "execute_result"
        }
      ],
      "source": [
        "labels = dataset.features[\"label\"].names\n",
        "label2id, id2label = dict(), dict()\n",
        "for i, label in enumerate(labels):\n",
        "    label2id[label] = str(i)\n",
        "    id2label[str(i)] = label\n",
        "    \n",
        "label2id, id2label"
      ]
    },
    {
      "cell_type": "markdown",
      "metadata": {},
      "source": [
        "## **Resampling data and creating binary dataset**\n",
        "\n",
        "```javascript\n",
        "To balance the dataset, we used random resampling to obtain a fixed number of images per class. We chose to select 10,000 images for the \"Good weld\" cla5s and 2,000 images for each of the other classes. The decision to use 2,000 images was based on the fact that the \"Burn through\" class had over 2,000 images. We opted not to use data augmentation, as we believe future images will have consistent camera settings, orientation, and lighting conditions.\n",
        "```"
      ]
    },
    {
      "cell_type": "code",
      "execution_count": null,
      "metadata": {
        "colab": {
          "referenced_widgets": [
            "e2b110fa8b474f8ba7f9576ab3860248",
            "bfc32e0bdfb7438abb127f3433718ed9",
            "185c2c6fc753482287d6052dd4f40059",
            "f60d566d6f1f456aa8d652fb4792b110",
            "ba52946e0ee149088186ce88365ce724"
          ]
        },
        "execution": {
          "iopub.execute_input": "2024-07-24T07:51:58.730126Z",
          "iopub.status.busy": "2024-07-24T07:51:58.729806Z",
          "iopub.status.idle": "2024-07-24T08:16:36.039066Z",
          "shell.execute_reply": "2024-07-24T08:16:36.038028Z",
          "shell.execute_reply.started": "2024-07-24T07:51:58.7301Z"
        },
        "id": "7SaUmhjGhmAZ",
        "outputId": "5caba89d-c367-43ef-d38a-72977a9a9d68",
        "trusted": true
      },
      "outputs": [
        {
          "name": "stdout",
          "output_type": "stream",
          "text": [
            "Class 0 Progess\n",
            "Class 1 Progess\n"
          ]
        },
        {
          "data": {
            "application/vnd.jupyter.widget-view+json": {
              "model_id": "e2b110fa8b474f8ba7f9576ab3860248",
              "version_major": 2,
              "version_minor": 0
            },
            "text/plain": [
              "Filter:   0%|          | 0/33254 [00:00<?, ? examples/s]"
            ]
          },
          "metadata": {},
          "output_type": "display_data"
        },
        {
          "name": "stdout",
          "output_type": "stream",
          "text": [
            "Class 2 Progess\n"
          ]
        },
        {
          "data": {
            "application/vnd.jupyter.widget-view+json": {
              "model_id": "bfc32e0bdfb7438abb127f3433718ed9",
              "version_major": 2,
              "version_minor": 0
            },
            "text/plain": [
              "Filter:   0%|          | 0/33254 [00:00<?, ? examples/s]"
            ]
          },
          "metadata": {},
          "output_type": "display_data"
        },
        {
          "name": "stdout",
          "output_type": "stream",
          "text": [
            "Class 3 Progess\n"
          ]
        },
        {
          "data": {
            "application/vnd.jupyter.widget-view+json": {
              "model_id": "185c2c6fc753482287d6052dd4f40059",
              "version_major": 2,
              "version_minor": 0
            },
            "text/plain": [
              "Filter:   0%|          | 0/33254 [00:00<?, ? examples/s]"
            ]
          },
          "metadata": {},
          "output_type": "display_data"
        },
        {
          "name": "stdout",
          "output_type": "stream",
          "text": [
            "Class 4 Progess\n"
          ]
        },
        {
          "data": {
            "application/vnd.jupyter.widget-view+json": {
              "model_id": "f60d566d6f1f456aa8d652fb4792b110",
              "version_major": 2,
              "version_minor": 0
            },
            "text/plain": [
              "Filter:   0%|          | 0/33254 [00:00<?, ? examples/s]"
            ]
          },
          "metadata": {},
          "output_type": "display_data"
        },
        {
          "name": "stdout",
          "output_type": "stream",
          "text": [
            "Class 5 Progess\n"
          ]
        },
        {
          "data": {
            "application/vnd.jupyter.widget-view+json": {
              "model_id": "ba52946e0ee149088186ce88365ce724",
              "version_major": 2,
              "version_minor": 0
            },
            "text/plain": [
              "Filter:   0%|          | 0/33254 [00:00<?, ? examples/s]"
            ]
          },
          "metadata": {},
          "output_type": "display_data"
        }
      ],
      "source": [
        "from datasets import Dataset\n",
        "# Function to sample the desired number of images per class\n",
        "def sample_dataset(dataset, class_counts):\n",
        "    dataset_final = Dataset.from_list([])\n",
        "    for label, count in class_counts.items():\n",
        "        print(f\"Class {label} Progess\")\n",
        "        # Get all indices for the current label\n",
        "        dataset_only_one_label = dataset.filter(lambda example: example[\"label\"] == label)\n",
        "        dataset_only_one_label = dataset_only_one_label.shuffle()\n",
        "        dataset_only_one_label = dataset_only_one_label.select(range(count))\n",
        "        # Randomly sample the desired number of indices for the current label\n",
        "        dataset_final = concatenate_datasets([dataset_final, dataset_only_one_label])\n",
        "    return dataset_final\n",
        "\n",
        "# Specify the desired number of images per class\n",
        "class_counts = {\n",
        "    0: 2000,  \n",
        "    1: 2000,  \n",
        "    2: 10000,  \n",
        "    3: 2000,  \n",
        "    4: 2000,  \n",
        "    5: 2000   \n",
        "}\n",
        "\n",
        "# Sample the dataset to create the balanced dataset\n",
        "balanced_dataset = sample_dataset(dataset, class_counts)\n"
      ]
    },
    {
      "cell_type": "markdown",
      "metadata": {},
      "source": [
        "```java\n",
        "Final result a dataset of 20000 images\n",
        "```"
      ]
    },
    {
      "cell_type": "code",
      "execution_count": null,
      "metadata": {
        "execution": {
          "iopub.execute_input": "2024-07-24T08:19:38.028782Z",
          "iopub.status.busy": "2024-07-24T08:19:38.027968Z",
          "iopub.status.idle": "2024-07-24T08:19:38.034716Z",
          "shell.execute_reply": "2024-07-24T08:19:38.033759Z",
          "shell.execute_reply.started": "2024-07-24T08:19:38.028746Z"
        },
        "id": "NbE3tJg1hmAZ",
        "outputId": "cff23222-038c-4f62-d47e-fb89497f576c",
        "trusted": true
      },
      "outputs": [
        {
          "data": {
            "text/plain": [
              "Dataset({\n",
              "    features: ['image', 'label'],\n",
              "    num_rows: 20000\n",
              "})"
            ]
          },
          "execution_count": 36,
          "metadata": {},
          "output_type": "execute_result"
        }
      ],
      "source": [
        "balanced_dataset"
      ]
    },
    {
      "cell_type": "markdown",
      "metadata": {},
      "source": [
        "## **Fixing the labels**\n",
        "\n",
        "```java\n",
        "After preparing our dataset, we need to finalize the labels. We created a simple function that checks if the original label is \"Good weld.\" If it is, the function assigns a value of 0; otherwise, it assigns a value of 1.\n",
        "```"
      ]
    },
    {
      "cell_type": "code",
      "execution_count": null,
      "metadata": {
        "colab": {
          "referenced_widgets": [
            "39ac85dfc32d4ad8bd2fe4e5d2776bbe"
          ]
        },
        "execution": {
          "iopub.execute_input": "2024-07-24T08:20:04.126186Z",
          "iopub.status.busy": "2024-07-24T08:20:04.125863Z",
          "iopub.status.idle": "2024-07-24T08:20:07.197261Z",
          "shell.execute_reply": "2024-07-24T08:20:07.196502Z",
          "shell.execute_reply.started": "2024-07-24T08:20:04.126161Z"
        },
        "id": "wPz4de72hmAZ",
        "outputId": "84b7e1b1-82ca-4908-e221-9d707e9259db",
        "trusted": true
      },
      "outputs": [
        {
          "data": {
            "application/vnd.jupyter.widget-view+json": {
              "model_id": "39ac85dfc32d4ad8bd2fe4e5d2776bbe",
              "version_major": 2,
              "version_minor": 0
            },
            "text/plain": [
              "Map:   0%|          | 0/20000 [00:00<?, ? examples/s]"
            ]
          },
          "metadata": {},
          "output_type": "display_data"
        }
      ],
      "source": [
        "def add_prefix(example):\n",
        "    example[\"label_binary\"] = 0 if example[\"label\"] == 2 else 1\n",
        "    return example\n",
        "\n",
        "updated_dataset = balanced_dataset.map(add_prefix)\n",
        "updated_dataset = updated_dataset.remove_columns([\"label\"])"
      ]
    },
    {
      "cell_type": "markdown",
      "metadata": {},
      "source": [
        "## **Creating train and test splits**\n",
        "\n",
        "```javascript\n",
        "This cell creates the splits for training and testing, using 30% of the data for testing.\n",
        "```"
      ]
    },
    {
      "cell_type": "code",
      "execution_count": null,
      "metadata": {
        "execution": {
          "iopub.execute_input": "2024-07-24T08:34:06.228961Z",
          "iopub.status.busy": "2024-07-24T08:34:06.22809Z",
          "iopub.status.idle": "2024-07-24T08:34:07.720221Z",
          "shell.execute_reply": "2024-07-24T08:34:07.718991Z",
          "shell.execute_reply.started": "2024-07-24T08:34:06.228927Z"
        },
        "id": "ha2eD_qohmAa",
        "trusted": true
      },
      "outputs": [],
      "source": [
        "training_dataset = updated_dataset.train_test_split(test_size=0.3)\n",
        "training_dataset = training_dataset.rename_column(\"label_binary\", \"label\")"
      ]
    },
    {
      "cell_type": "code",
      "execution_count": null,
      "metadata": {
        "execution": {
          "iopub.execute_input": "2024-07-24T08:34:09.002397Z",
          "iopub.status.busy": "2024-07-24T08:34:09.002005Z",
          "iopub.status.idle": "2024-07-24T08:34:09.011251Z",
          "shell.execute_reply": "2024-07-24T08:34:09.01008Z",
          "shell.execute_reply.started": "2024-07-24T08:34:09.002364Z"
        },
        "id": "n65Xhgw8hmAa",
        "outputId": "068dc85c-1bc0-443d-fb43-3a61e4ed6fd4",
        "trusted": true
      },
      "outputs": [
        {
          "data": {
            "text/plain": [
              "DatasetDict({\n",
              "    train: Dataset({\n",
              "        features: ['image', 'label'],\n",
              "        num_rows: 14000\n",
              "    })\n",
              "    test: Dataset({\n",
              "        features: ['image', 'label'],\n",
              "        num_rows: 6000\n",
              "    })\n",
              "})"
            ]
          },
          "execution_count": 68,
          "metadata": {},
          "output_type": "execute_result"
        }
      ],
      "source": [
        "training_dataset"
      ]
    },
    {
      "cell_type": "markdown",
      "metadata": {},
      "source": [
        "## **Upload to hugging face**\n",
        "\n",
        "```r\n",
        "We uploaded the data to Hugging Face Datasets so that both my colleague and I, as well as anyone else, could easily access it.\n",
        "```"
      ]
    },
    {
      "cell_type": "code",
      "execution_count": null,
      "metadata": {
        "colab": {
          "referenced_widgets": [
            "a1db050ca4824bfcae672c23b47c1663",
            "2e653b0ad2084c30acff4c5f36647946",
            "b7c207d922d54729892d93fce0be1ace",
            "812f57b5b22040f3ada35afbee3a950f",
            "c517cfdc1e184b0c97181be1a667e9a1",
            "57f4769518b04cfdb1cc7677e0377155",
            "c687e10900d641c4897144ed5ddab052",
            "c35d24bb93cd48089a81e9d8dc4ca569",
            "e84067d7437c4d7cb2db28ee7060f8a1",
            "e8a5a7aac0304a729bab01f81c904a02",
            "72fc8bf7bb7f44b8922839a9ca3cd434",
            "f2ec5148dede48efbaf04623b8854b58",
            "aaf900d134514f0e97c4111a85c4e873",
            "500aaf838aac4fb0a2daadec07b25e07",
            "73731b61a6494fcf82738e9aeac4aa66",
            "c6f3066720f54a889bf623e96bda80e0",
            "b94ce56fee3e4a8c880b968dc65c2dcd",
            "85ae38e636dd4113bc088290ca3570b4",
            "70e9da666f5a49a09acc3c79c928ed59",
            "471148acbc004e5496c92fbe47cf12f0",
            "24cc4fc2506549e986e04a7ad93c45ad"
          ]
        },
        "execution": {
          "iopub.execute_input": "2024-07-24T08:34:12.761395Z",
          "iopub.status.busy": "2024-07-24T08:34:12.760987Z",
          "iopub.status.idle": "2024-07-24T08:37:45.942319Z",
          "shell.execute_reply": "2024-07-24T08:37:45.940794Z",
          "shell.execute_reply.started": "2024-07-24T08:34:12.761362Z"
        },
        "id": "QvHtLL-MhmAa",
        "outputId": "12881b0d-7363-4a3a-f4c6-4498dbcbe1f1",
        "trusted": true
      },
      "outputs": [
        {
          "data": {
            "application/vnd.jupyter.widget-view+json": {
              "model_id": "a1db050ca4824bfcae672c23b47c1663",
              "version_major": 2,
              "version_minor": 0
            },
            "text/plain": [
              "Uploading the dataset shards:   0%|          | 0/6 [00:00<?, ?it/s]"
            ]
          },
          "metadata": {},
          "output_type": "display_data"
        },
        {
          "data": {
            "application/vnd.jupyter.widget-view+json": {
              "model_id": "2e653b0ad2084c30acff4c5f36647946",
              "version_major": 2,
              "version_minor": 0
            },
            "text/plain": [
              "Map:   0%|          | 0/2334 [00:00<?, ? examples/s]"
            ]
          },
          "metadata": {},
          "output_type": "display_data"
        },
        {
          "data": {
            "application/vnd.jupyter.widget-view+json": {
              "model_id": "b7c207d922d54729892d93fce0be1ace",
              "version_major": 2,
              "version_minor": 0
            },
            "text/plain": [
              "Creating parquet from Arrow format:   0%|          | 0/24 [00:00<?, ?ba/s]"
            ]
          },
          "metadata": {},
          "output_type": "display_data"
        },
        {
          "data": {
            "application/vnd.jupyter.widget-view+json": {
              "model_id": "812f57b5b22040f3ada35afbee3a950f",
              "version_major": 2,
              "version_minor": 0
            },
            "text/plain": [
              "Map:   0%|          | 0/2334 [00:00<?, ? examples/s]"
            ]
          },
          "metadata": {},
          "output_type": "display_data"
        },
        {
          "data": {
            "application/vnd.jupyter.widget-view+json": {
              "model_id": "c517cfdc1e184b0c97181be1a667e9a1",
              "version_major": 2,
              "version_minor": 0
            },
            "text/plain": [
              "Creating parquet from Arrow format:   0%|          | 0/24 [00:00<?, ?ba/s]"
            ]
          },
          "metadata": {},
          "output_type": "display_data"
        },
        {
          "data": {
            "application/vnd.jupyter.widget-view+json": {
              "model_id": "57f4769518b04cfdb1cc7677e0377155",
              "version_major": 2,
              "version_minor": 0
            },
            "text/plain": [
              "Map:   0%|          | 0/2333 [00:00<?, ? examples/s]"
            ]
          },
          "metadata": {},
          "output_type": "display_data"
        },
        {
          "data": {
            "application/vnd.jupyter.widget-view+json": {
              "model_id": "c687e10900d641c4897144ed5ddab052",
              "version_major": 2,
              "version_minor": 0
            },
            "text/plain": [
              "Creating parquet from Arrow format:   0%|          | 0/24 [00:00<?, ?ba/s]"
            ]
          },
          "metadata": {},
          "output_type": "display_data"
        },
        {
          "data": {
            "application/vnd.jupyter.widget-view+json": {
              "model_id": "c35d24bb93cd48089a81e9d8dc4ca569",
              "version_major": 2,
              "version_minor": 0
            },
            "text/plain": [
              "Map:   0%|          | 0/2333 [00:00<?, ? examples/s]"
            ]
          },
          "metadata": {},
          "output_type": "display_data"
        },
        {
          "data": {
            "application/vnd.jupyter.widget-view+json": {
              "model_id": "e84067d7437c4d7cb2db28ee7060f8a1",
              "version_major": 2,
              "version_minor": 0
            },
            "text/plain": [
              "Creating parquet from Arrow format:   0%|          | 0/24 [00:00<?, ?ba/s]"
            ]
          },
          "metadata": {},
          "output_type": "display_data"
        },
        {
          "data": {
            "application/vnd.jupyter.widget-view+json": {
              "model_id": "e8a5a7aac0304a729bab01f81c904a02",
              "version_major": 2,
              "version_minor": 0
            },
            "text/plain": [
              "Map:   0%|          | 0/2333 [00:00<?, ? examples/s]"
            ]
          },
          "metadata": {},
          "output_type": "display_data"
        },
        {
          "data": {
            "application/vnd.jupyter.widget-view+json": {
              "model_id": "72fc8bf7bb7f44b8922839a9ca3cd434",
              "version_major": 2,
              "version_minor": 0
            },
            "text/plain": [
              "Creating parquet from Arrow format:   0%|          | 0/24 [00:00<?, ?ba/s]"
            ]
          },
          "metadata": {},
          "output_type": "display_data"
        },
        {
          "data": {
            "application/vnd.jupyter.widget-view+json": {
              "model_id": "f2ec5148dede48efbaf04623b8854b58",
              "version_major": 2,
              "version_minor": 0
            },
            "text/plain": [
              "Map:   0%|          | 0/2333 [00:00<?, ? examples/s]"
            ]
          },
          "metadata": {},
          "output_type": "display_data"
        },
        {
          "data": {
            "application/vnd.jupyter.widget-view+json": {
              "model_id": "aaf900d134514f0e97c4111a85c4e873",
              "version_major": 2,
              "version_minor": 0
            },
            "text/plain": [
              "Creating parquet from Arrow format:   0%|          | 0/24 [00:00<?, ?ba/s]"
            ]
          },
          "metadata": {},
          "output_type": "display_data"
        },
        {
          "data": {
            "application/vnd.jupyter.widget-view+json": {
              "model_id": "500aaf838aac4fb0a2daadec07b25e07",
              "version_major": 2,
              "version_minor": 0
            },
            "text/plain": [
              "Uploading the dataset shards:   0%|          | 0/3 [00:00<?, ?it/s]"
            ]
          },
          "metadata": {},
          "output_type": "display_data"
        },
        {
          "data": {
            "application/vnd.jupyter.widget-view+json": {
              "model_id": "73731b61a6494fcf82738e9aeac4aa66",
              "version_major": 2,
              "version_minor": 0
            },
            "text/plain": [
              "Map:   0%|          | 0/2000 [00:00<?, ? examples/s]"
            ]
          },
          "metadata": {},
          "output_type": "display_data"
        },
        {
          "data": {
            "application/vnd.jupyter.widget-view+json": {
              "model_id": "c6f3066720f54a889bf623e96bda80e0",
              "version_major": 2,
              "version_minor": 0
            },
            "text/plain": [
              "Creating parquet from Arrow format:   0%|          | 0/20 [00:00<?, ?ba/s]"
            ]
          },
          "metadata": {},
          "output_type": "display_data"
        },
        {
          "data": {
            "application/vnd.jupyter.widget-view+json": {
              "model_id": "b94ce56fee3e4a8c880b968dc65c2dcd",
              "version_major": 2,
              "version_minor": 0
            },
            "text/plain": [
              "Map:   0%|          | 0/2000 [00:00<?, ? examples/s]"
            ]
          },
          "metadata": {},
          "output_type": "display_data"
        },
        {
          "data": {
            "application/vnd.jupyter.widget-view+json": {
              "model_id": "85ae38e636dd4113bc088290ca3570b4",
              "version_major": 2,
              "version_minor": 0
            },
            "text/plain": [
              "Creating parquet from Arrow format:   0%|          | 0/20 [00:00<?, ?ba/s]"
            ]
          },
          "metadata": {},
          "output_type": "display_data"
        },
        {
          "data": {
            "application/vnd.jupyter.widget-view+json": {
              "model_id": "70e9da666f5a49a09acc3c79c928ed59",
              "version_major": 2,
              "version_minor": 0
            },
            "text/plain": [
              "Map:   0%|          | 0/2000 [00:00<?, ? examples/s]"
            ]
          },
          "metadata": {},
          "output_type": "display_data"
        },
        {
          "data": {
            "application/vnd.jupyter.widget-view+json": {
              "model_id": "471148acbc004e5496c92fbe47cf12f0",
              "version_major": 2,
              "version_minor": 0
            },
            "text/plain": [
              "Creating parquet from Arrow format:   0%|          | 0/20 [00:00<?, ?ba/s]"
            ]
          },
          "metadata": {},
          "output_type": "display_data"
        },
        {
          "data": {
            "application/vnd.jupyter.widget-view+json": {
              "model_id": "24cc4fc2506549e986e04a7ad93c45ad",
              "version_major": 2,
              "version_minor": 0
            },
            "text/plain": [
              "README.md:   0%|          | 0.00/328 [00:00<?, ?B/s]"
            ]
          },
          "metadata": {},
          "output_type": "display_data"
        },
        {
          "data": {
            "text/plain": [
              "CommitInfo(commit_url='https://huggingface.co/datasets/LaLegumbreArtificial/womanium-balance/commit/4128dbfa5200b67e211392e0ea7c96379c77f001', commit_message='Upload dataset', commit_description='', oid='4128dbfa5200b67e211392e0ea7c96379c77f001', pr_url=None, pr_revision=None, pr_num=None)"
            ]
          },
          "execution_count": 69,
          "metadata": {},
          "output_type": "execute_result"
        }
      ],
      "source": [
        "training_dataset.push_to_hub(\"LaLegumbreArtificial/womanium-balance\", private=True)"
      ]
    }
  ],
  "metadata": {
    "colab": {
      "provenance": []
    },
    "kaggle": {
      "accelerator": "nvidiaTeslaT4",
      "dataSources": [],
      "dockerImageVersionId": 30747,
      "isGpuEnabled": true,
      "isInternetEnabled": true,
      "language": "python",
      "sourceType": "notebook"
    },
    "kernelspec": {
      "display_name": "Python 3",
      "language": "python",
      "name": "python3"
    },
    "language_info": {
      "codemirror_mode": {
        "name": "ipython",
        "version": 3
      },
      "file_extension": ".py",
      "mimetype": "text/x-python",
      "name": "python",
      "nbconvert_exporter": "python",
      "pygments_lexer": "ipython3",
      "version": "3.9.19"
    }
  },
  "nbformat": 4,
  "nbformat_minor": 0
}
