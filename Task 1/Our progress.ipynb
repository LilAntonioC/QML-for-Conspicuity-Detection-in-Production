{
 "cells": [
  {
   "cell_type": "markdown",
   "metadata": {},
   "source": [
    "# **Task 1 conclusion**\n",
    "\n",
    "\n",
    "```javascript\n",
    "After working through the various codebooks, I realized that the materials provided by Pennylane are quite good. We enjoyed most of the content and are continuing with the different sections of the Pennylane codebooks. Most of the tasks are quite interesting. However, we would like to see future notebooks that focus on solving machine learning tasks. While the demos are helpful, constructing and solving these modules would enhance our understanding of the technologies and make the material more accessible to a broader audience. Here is our progress with the codebooks:\n",
    "```"
   ]
  },
  {
   "cell_type": "markdown",
   "metadata": {},
   "source": [
    "## **Jose Antonio Contreras Ortiz**"
   ]
  },
  {
   "cell_type": "markdown",
   "metadata": {},
   "source": [
    "<img src = \"img/Antonio-progress.png\">"
   ]
  },
  {
   "cell_type": "markdown",
   "metadata": {},
   "source": [
    "## **Ricardo Santiago Rioda**"
   ]
  },
  {
   "cell_type": "markdown",
   "metadata": {},
   "source": [
    "<img src = \"img/Ricardo-progress.png\">"
   ]
  }
 ],
 "metadata": {
  "language_info": {
   "name": "python"
  }
 },
 "nbformat": 4,
 "nbformat_minor": 2
}
